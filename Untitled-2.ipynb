{
 "metadata": {
  "language_info": {
   "codemirror_mode": {
    "name": "ipython",
    "version": 3
   },
   "file_extension": ".py",
   "mimetype": "text/x-python",
   "name": "python",
   "nbconvert_exporter": "python",
   "pygments_lexer": "ipython3",
   "version": "3.6.8"
  },
  "orig_nbformat": 2,
  "kernelspec": {
   "name": "python368jvsc74a57bd07af27c204656db38c31eedfdcf740026738ec1c7f4b350849321b5bdffd9de13",
   "display_name": "Python 3.6.8 64-bit"
  },
  "metadata": {
   "interpreter": {
    "hash": "7af27c204656db38c31eedfdcf740026738ec1c7f4b350849321b5bdffd9de13"
   }
  }
 },
 "nbformat": 4,
 "nbformat_minor": 2,
 "cells": [
  {
   "cell_type": "code",
   "execution_count": 29,
   "metadata": {},
   "outputs": [
    {
     "output_type": "stream",
     "name": "stdout",
     "text": [
      "<class 'list'>\n"
     ]
    }
   ],
   "source": [
    "import pandas as pd\n",
    "if __name__ == '__main__':\n",
    "    #安裝mysql docker 測試\n",
    "    #connect=mysqlConnect('192.168.1.220','3309','covmo','covmo123','schema_pack_iii').getConnectcursor()\n",
    "    #cur=connect.cursor()\n",
    "    #cur.execute('show engines')\n",
    "    #records = cur.fetchall()\n",
    "    #print(\"count：\", cur.rowcount)\n",
    "    '''\n",
    "    excel_path='./CovMo_LTE_5G_NSA_S20201105_R20201208.xlsx'\n",
    "    usecols_raw=['#','Column Name','CH Data Type','CH Key']\n",
    "    df = pd.read_excel('./CovMo_LTE_5G_NSA_S20201105_R20201208.xlsx',engine='openpyxl',sheet_name='table_call_lte',nrows=21,usecols=usecols_raw)\n",
    "    print(df)\n",
    "    '''\n",
    "\n",
    "    excel_path='./MSRPLUS20210408_band.csv'\n",
    "    df = pd.read_csv(excel_path,engine='python',sep='|',nrows=10,index_col='TAC')\n",
    "    bands=df['Bands'].tolist()\n",
    "    print(type(bands))\n",
    "    print(bands[0])\n"
   ]
  },
  {
   "cell_type": "code",
   "execution_count": null,
   "metadata": {},
   "outputs": [],
   "source": []
  }
 ]
}