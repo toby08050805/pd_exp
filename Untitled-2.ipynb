{
 "metadata": {
  "language_info": {
   "codemirror_mode": {
    "name": "ipython",
    "version": 3
   },
   "file_extension": ".py",
   "mimetype": "text/x-python",
   "name": "python",
   "nbconvert_exporter": "python",
   "pygments_lexer": "ipython3",
   "version": "3.6.8"
  },
  "orig_nbformat": 2,
  "kernelspec": {
   "name": "python368jvsc74a57bd07af27c204656db38c31eedfdcf740026738ec1c7f4b350849321b5bdffd9de13",
   "display_name": "Python 3.6.8 64-bit"
  },
  "metadata": {
   "interpreter": {
    "hash": "7af27c204656db38c31eedfdcf740026738ec1c7f4b350849321b5bdffd9de13"
   }
  }
 },
 "nbformat": 4,
 "nbformat_minor": 2,
 "cells": [
  {
   "cell_type": "code",
   "execution_count": 1,
   "metadata": {},
   "outputs": [
    {
     "output_type": "error",
     "ename": "ModuleNotFoundError",
     "evalue": "No module named 'pandas'",
     "traceback": [
      "\u001b[1;31m---------------------------------------------------------------------------\u001b[0m",
      "\u001b[1;31mModuleNotFoundError\u001b[0m                       Traceback (most recent call last)",
      "\u001b[1;32m<ipython-input-1-2c2cfb00b9c3>\u001b[0m in \u001b[0;36m<module>\u001b[1;34m\u001b[0m\n\u001b[1;32m----> 1\u001b[1;33m \u001b[1;32mimport\u001b[0m \u001b[0mpandas\u001b[0m \u001b[1;32mas\u001b[0m \u001b[0mpd\u001b[0m\u001b[1;33m\u001b[0m\u001b[1;33m\u001b[0m\u001b[0m\n\u001b[0m\u001b[0;32m      2\u001b[0m \u001b[1;32mimport\u001b[0m \u001b[0mre\u001b[0m\u001b[1;33m\u001b[0m\u001b[1;33m\u001b[0m\u001b[0m\n\u001b[0;32m      3\u001b[0m \u001b[1;32mif\u001b[0m \u001b[0m__name__\u001b[0m \u001b[1;33m==\u001b[0m \u001b[1;34m'__main__'\u001b[0m\u001b[1;33m:\u001b[0m\u001b[1;33m\u001b[0m\u001b[1;33m\u001b[0m\u001b[0m\n\u001b[0;32m      4\u001b[0m     \u001b[1;31m#安裝mysql docker 測試\u001b[0m\u001b[1;33m\u001b[0m\u001b[1;33m\u001b[0m\u001b[1;33m\u001b[0m\u001b[0m\n\u001b[0;32m      5\u001b[0m     \u001b[1;31m#connect=mysqlConnect('192.168.1.220','3309','covmo','covmo123','schema_pack_iii').getConnectcursor()\u001b[0m\u001b[1;33m\u001b[0m\u001b[1;33m\u001b[0m\u001b[1;33m\u001b[0m\u001b[0m\n",
      "\u001b[1;31mModuleNotFoundError\u001b[0m: No module named 'pandas'"
     ]
    }
   ],
   "source": [
    "import pandas as pd\n",
    "import re\n",
    "if __name__ == '__main__':\n",
    "    #安裝mysql docker 測試\n",
    "    #connect=mysqlConnect('192.168.1.220','3309','covmo','covmo123','schema_pack_iii').getConnectcursor()\n",
    "    #cur=connect.cursor()\n",
    "    #cur.execute('show engines')\n",
    "    #records = cur.fetchall()\n",
    "    #print(\"count：\", cur.rowcount)\n",
    "    lteBandSum=0\n",
    "    lteBandlist=[]\n",
    "    excel_path='./lte.csv'\n",
    "    lteBand = pd.read_csv(excel_path,engine='python',sep='\\t',index_col='NAME')\n",
    "    #print(lteBand['ID'].tolist())\n",
    "    #print(lteBand)\n",
    "    #x=\"band_1\"\n",
    "    #print(type(x))\n",
    "    #print(lteBand.loc[x].astype(int))\n",
    "    #print(lteBand.loc[\"band_27\"].astype(int)+lteBand.loc[\"band_27\"].astype(int))\n",
    "\n",
    "    excel_path='./MSRPLUS20210408_band.csv'\n",
    "    df = pd.read_csv(excel_path,engine='python',sep='|',nrows=10,index_col='TAC')\n",
    "    #df.info(memory_usage='deep')\n",
    "    bands=df['Bands'].tolist()\n",
    "    #print(type(bands))\n",
    "    #print(type(bands[0]))\n",
    "    #print(df.index)\n",
    " \n",
    "    #print(band_split[0])\n",
    "    for row in range(len(df.index)):\n",
    "        band_split=bands[row].split(',')\n",
    "        lteBandSum=0\n",
    "        for x in range (len(band_split)):\n",
    "            #print(band_split[x])\n",
    "            isLteMatch=re.match('LTE',band_split[x])\n",
    "            if isLteMatch:\n",
    "                #print(type(format(re.findall(\"[0-9]+$\", band_split[x]))))\n",
    "                #print(\"band_{}\".format(re.findall(\"[0-9]+$\", band_split[x])[0]))\n",
    "                bandName=\"band_\"+re.findall(\"[0-9]+$\", band_split[x])[0]\n",
    "                #print(type(bandName))\n",
    "                #print(lteBand.loc[bandName].astype(int))\n",
    "                try:\n",
    "                    #print(bandName)\n",
    "                    lteBand.loc[bandName].astype(uint64)\n",
    "                except:\n",
    "                    #print(bandName)\n",
    "                    continue\n",
    "\n",
    "                lteBandSum=(lteBand.loc[bandName].astype('uint64'))+lteBandSum\n",
    "                #lteBandSum=lteBand.loc(bandName).astype(int)\n",
    "                #print(lteBand.loc[bandName].astype('int64').values[0])\n",
    "        lteBandlist.append(lteBandSum.astype('uint64').values[0])\n",
    "    df['lte_band']= lteBandlist\n",
    "    print(df[['Bands','lte_band']])\n",
    "    ######test filter +  band\n",
    "    #fliter = (df[\"lte_band\"] == 703687441782879 )\n",
    "    #print(df[fliter][['Bands','lte_band']])\n",
    "    #print(df[['Bands','lte_band']].head())\n",
    "    #print((df['Bands'].str.split(\",\")))\n",
    "    \n"
   ]
  },
  {
   "cell_type": "code",
   "execution_count": null,
   "metadata": {},
   "outputs": [],
   "source": []
  },
  {
   "cell_type": "code",
   "execution_count": 60,
   "metadata": {},
   "outputs": [
    {
     "output_type": "stream",
     "name": "stdout",
     "text": [
      "[' 12']\n"
     ]
    }
   ],
   "source": [
    "import re\n",
    "\n",
    "txt = \"LTE FDD BAND 12\"\n",
    "x = re.findall(\" [0-9]+$\", txt)\n",
    "print(x)\n",
    "#if re.match('LTEE',txt):\n",
    "#    print('true')"
   ]
  },
  {
   "cell_type": "code",
   "execution_count": null,
   "metadata": {},
   "outputs": [],
   "source": []
  }
 ]
}