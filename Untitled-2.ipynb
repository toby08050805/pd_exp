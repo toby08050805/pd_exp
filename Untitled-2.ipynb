{
 "metadata": {
  "language_info": {
   "codemirror_mode": {
    "name": "ipython",
    "version": 3
   },
   "file_extension": ".py",
   "mimetype": "text/x-python",
   "name": "python",
   "nbconvert_exporter": "python",
   "pygments_lexer": "ipython3",
   "version": "3.9.0"
  },
  "orig_nbformat": 2,
  "kernelspec": {
   "name": "python390jvsc74a57bd057a6d70475a84882395e9fe3b7b94a85b95d00026437b9a59be5213b52f2e000",
   "display_name": "Python 3.9.0 64-bit"
  },
  "metadata": {
   "interpreter": {
    "hash": "7af27c204656db38c31eedfdcf740026738ec1c7f4b350849321b5bdffd9de13"
   }
  }
 },
 "nbformat": 4,
 "nbformat_minor": 2,
 "cells": [
  {
   "cell_type": "code",
   "execution_count": 59,
   "metadata": {},
   "outputs": [
    {
     "output_type": "stream",
     "name": "stdout",
     "text": [
      "<class 'pandas.core.frame.DataFrame'>\nInt64Index: 10 entries, 1571000 to 1590200\nData columns (total 2 columns):\n #   Column    Non-Null Count  Dtype \n---  ------    --------------  ----- \n 0   5G Bands  10 non-null     object\n 1   Bands     10 non-null     object\ndtypes: object(2)\nmemory usage: 12.1 KB\n                                                     Bands         lte_band\nTAC                                                                        \n1571000  CA_66B,CA_66C,CA_2A-4A,CA_2A-5A,CA_2A-12A,CA_2...  600196094892255\n1572600  CA_5B,CA_48C,CA_48D,CA_48E,CA_66B,CA_66C,CA_2A...  703687441782879\n1572800  LTE FDD BAND 1,LTE FDD BAND 2,LTE FDD BAND 3,L...  740942978947295\n1572900  CA_66B,CA_66C,CA_2A-4A,CA_2A-5A,CA_2A-12A,CA_2...  600196094892255\n1574900  CA_66B,CA_66C,CA_2A-4A,CA_2A-2A-4A,CA_2A-4A-4A...  738871948613726\n1580500  CA_1,CA_2,CA_3,CA_5,CA_7,CA_8,CA_12,CA_38,CA_3...  707959777540319\n1582900  CA_7C,CA_41C,CA_42C,CA_42D,CA_66B,CA_66C,CA_2A...  707410021726431\n1583600  CA_7C,CA_41C,CA_42C,CA_42D,CA_66B,CA_66C,CA_2A...  707410021726431\n1585200  CA_7C,CA_4A-5A,CA_4A-7A,CA_5A-66A,CA_5A-66A-66...  562950087645278\n1590200  CA_66B,CA_66C,CA_2A-4A,CA_2A-2A-4A,CA_2A-4A-4A...  703687576524894\n"
     ]
    }
   ],
   "source": [
    "import pandas as pd\n",
    "import re\n",
    "if __name__ == '__main__':\n",
    "    #安裝mysql docker 測試\n",
    "    #connect=mysqlConnect('192.168.1.220','3309','covmo','covmo123','schema_pack_iii').getConnectcursor()\n",
    "    #cur=connect.cursor()\n",
    "    #cur.execute('show engines')\n",
    "    #records = cur.fetchall()\n",
    "    #print(\"count：\", cur.rowcount)\n",
    "    lteBandSum=0\n",
    "    lteBandlist=[]\n",
    "    excel_path='./lte.csv'\n",
    "    lteBand = pd.read_csv(excel_path,engine='python',sep='\\t',index_col='NAME')\n",
    "    #print(lteBand['ID'].tolist())\n",
    "    #print(lteBand)\n",
    "    #x=\"band_1\"\n",
    "    #print(type(x))\n",
    "    #print(lteBand.loc[x].astype(int))\n",
    "    #print(lteBand.loc[\"band_27\"].astype(int)+lteBand.loc[\"band_27\"].astype(int))\n",
    "\n",
    "    excel_path='./MSRPLUS20210408_band.csv'\n",
    "    df = pd.read_csv(excel_path,engine='python',sep='|',nrows=10,index_col='TAC')\n",
    "    #df.info(memory_usage='deep')\n",
    "    bands=df['Bands'].tolist()\n",
    "    #print(type(bands))\n",
    "    #print(type(bands[0]))\n",
    "    #print(df.index)\n",
    " \n",
    "    #print(band_split[0])\n",
    "    for row in range(len(df.index)):\n",
    "        band_split=bands[row].split(',')\n",
    "        lteBandSum=0\n",
    "        for x in range (len(band_split)):\n",
    "            #print(band_split[x])\n",
    "            isLteMatch=re.match('LTE',band_split[x])\n",
    "            if isLteMatch:\n",
    "                #print(type(format(re.findall(\"[0-9]+$\", band_split[x]))))\n",
    "                #print(\"band_{}\".format(re.findall(\"[0-9]+$\", band_split[x])[0]))\n",
    "                bandName=\"band_\"+re.findall(\"[0-9]+$\", band_split[x])[0]\n",
    "                #print(type(bandName))\n",
    "                #print(lteBand.loc[bandName].astype(int))\n",
    "                try:\n",
    "                    #print(bandName)\n",
    "                    lteBand.loc[bandName].astype(int)\n",
    "                except:\n",
    "                    #print(bandName)\n",
    "                    continue\n",
    "\n",
    "                lteBandSum=(lteBand.loc[bandName].astype('uint64'))+lteBandSum\n",
    "                #lteBandSum=lteBand.loc(bandName).astype(int)\n",
    "                #print(lteBand.loc[bandName].astype('int64').values[0])\n",
    "        lteBandlist.append(lteBandSum.astype('uint64').values[0])\n",
    "    df['lte_band']= lteBandlist\n",
    "    print(df[['Bands','lte_band']])\n",
    "    ######test filter +  band\n",
    "    #fliter = (df[\"lte_band\"] == 703687441782879 )\n",
    "    #print(df[fliter][['Bands','lte_band']])\n",
    "    #print(df[['Bands','lte_band']].head())\n",
    "    #print((df['Bands'].str.split(\",\")))\n",
    "    \n"
   ]
  },
  {
   "cell_type": "code",
   "execution_count": null,
   "metadata": {},
   "outputs": [],
   "source": []
  },
  {
   "cell_type": "code",
   "execution_count": 60,
   "metadata": {},
   "outputs": [
    {
     "output_type": "stream",
     "name": "stdout",
     "text": [
      "[' 12']\n"
     ]
    }
   ],
   "source": [
    "import re\n",
    "\n",
    "txt = \"LTE FDD BAND 12\"\n",
    "x = re.findall(\" [0-9]+$\", txt)\n",
    "print(x)\n",
    "#if re.match('LTEE',txt):\n",
    "#    print('true')"
   ]
  },
  {
   "cell_type": "code",
   "execution_count": null,
   "metadata": {},
   "outputs": [],
   "source": []
  }
 ]
}